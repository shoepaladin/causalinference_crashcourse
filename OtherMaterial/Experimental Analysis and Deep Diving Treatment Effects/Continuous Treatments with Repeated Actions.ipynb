{
 "cells": [
  {
   "cell_type": "markdown",
   "id": "aa5574f3",
   "metadata": {},
   "source": [
    "# Continuous Treatments and Repeated Actions\n",
    "Julian Hsu\n",
    "17-Dec-2023\n",
    "\n",
    "The purpose of this script is to understand the biases of understanding repeated actions, where the repeated actions have selection bias. "
   ]
  },
  {
   "cell_type": "code",
   "execution_count": 45,
   "id": "bf1a61f2",
   "metadata": {},
   "outputs": [],
   "source": [
    "import numpy as np\n",
    "import os as os\n",
    "import pandas as pd\n",
    "\n",
    "import statsmodels.api as sm"
   ]
  },
  {
   "cell_type": "markdown",
   "id": "482f9e46",
   "metadata": {},
   "source": [
    "## Generate serially correlated action data"
   ]
  },
  {
   "cell_type": "code",
   "execution_count": 82,
   "id": "1575e68e",
   "metadata": {},
   "outputs": [],
   "source": [
    "def repeated_action_data(N=200, timehorizon=3, treatments=[1,1,1,1]):\n",
    "    ## Setup covariates\n",
    "    X = np.random.normal(0,0.5, N)\n",
    "    df = pd.DataFrame(data=X,columns=['x'])\n",
    "    \n",
    "    \n",
    "    ## First action\n",
    "    action = np.random.choice(2,N)        \n",
    "    df['w0']=action\n",
    "    \n",
    "    ## Initialize outcome\n",
    "    df['y'] = np.random.uniform(-1,1)*df['x'] +\\\n",
    "        np.random.normal(0,1) + treatments[0]*df['w0']\n",
    "\n",
    "    \n",
    "    ## Now allow for multiple downstream actions for a set number of times\n",
    "    for t,te in zip( range(timehorizon), treatments[1:]):\n",
    "        latent_action = 0.15*df['w{0}'.format(t)] + np.random.uniform(-1,1)*df['x']+np.random.normal(0,1,N)\n",
    "        action = (latent_action > np.percentile(latent_action, 50) ) .astype(float)\n",
    "        df['w{0}'.format(t+1)] = action\n",
    "        df['y']+= df['w{0}'.format(t+1)] *te\n",
    "    return df"
   ]
  },
  {
   "cell_type": "code",
   "execution_count": 83,
   "id": "a986fb3a",
   "metadata": {},
   "outputs": [],
   "source": [
    "df=repeated_action_data(N=500, timehorizon=2, treatments=[0.31,0.21,0.11])"
   ]
  },
  {
   "cell_type": "code",
   "execution_count": 84,
   "id": "6b5f724f",
   "metadata": {},
   "outputs": [
    {
     "data": {
      "text/html": [
       "<table class=\"simpletable\">\n",
       "<caption>OLS Regression Results</caption>\n",
       "<tr>\n",
       "  <th>Dep. Variable:</th>            <td>y</td>        <th>  R-squared:         </th>  <td>   1.000</td> \n",
       "</tr>\n",
       "<tr>\n",
       "  <th>Model:</th>                   <td>OLS</td>       <th>  Adj. R-squared:    </th>  <td>   1.000</td> \n",
       "</tr>\n",
       "<tr>\n",
       "  <th>Method:</th>             <td>Least Squares</td>  <th>  F-statistic:       </th>  <td>3.470e+31</td>\n",
       "</tr>\n",
       "<tr>\n",
       "  <th>Date:</th>             <td>Tue, 19 Dec 2023</td> <th>  Prob (F-statistic):</th>   <td>  0.00</td>  \n",
       "</tr>\n",
       "<tr>\n",
       "  <th>Time:</th>                 <td>07:34:34</td>     <th>  Log-Likelihood:    </th>  <td>  16610.</td> \n",
       "</tr>\n",
       "<tr>\n",
       "  <th>No. Observations:</th>      <td>   500</td>      <th>  AIC:               </th> <td>-3.321e+04</td>\n",
       "</tr>\n",
       "<tr>\n",
       "  <th>Df Residuals:</th>          <td>   495</td>      <th>  BIC:               </th> <td>-3.319e+04</td>\n",
       "</tr>\n",
       "<tr>\n",
       "  <th>Df Model:</th>              <td>     4</td>      <th>                     </th>      <td> </td>    \n",
       "</tr>\n",
       "<tr>\n",
       "  <th>Covariance Type:</th>      <td>nonrobust</td>    <th>                     </th>      <td> </td>    \n",
       "</tr>\n",
       "</table>\n",
       "<table class=\"simpletable\">\n",
       "<tr>\n",
       "    <td></td>       <th>coef</th>     <th>std err</th>      <th>t</th>      <th>P>|t|</th>  <th>[0.025</th>    <th>0.975]</th>  \n",
       "</tr>\n",
       "<tr>\n",
       "  <th>const</th> <td>   -0.9870</td> <td>  8.1e-17</td> <td>-1.22e+16</td> <td> 0.000</td> <td>   -0.987</td> <td>   -0.987</td>\n",
       "</tr>\n",
       "<tr>\n",
       "  <th>w0</th>    <td>    0.3100</td> <td> 8.16e-17</td> <td>  3.8e+15</td> <td> 0.000</td> <td>    0.310</td> <td>    0.310</td>\n",
       "</tr>\n",
       "<tr>\n",
       "  <th>w1</th>    <td>    0.2100</td> <td> 8.25e-17</td> <td> 2.54e+15</td> <td> 0.000</td> <td>    0.210</td> <td>    0.210</td>\n",
       "</tr>\n",
       "<tr>\n",
       "  <th>w2</th>    <td>    0.1100</td> <td> 8.79e-17</td> <td> 1.25e+15</td> <td> 0.000</td> <td>    0.110</td> <td>    0.110</td>\n",
       "</tr>\n",
       "<tr>\n",
       "  <th>x</th>     <td>   -0.8871</td> <td> 9.13e-17</td> <td>-9.72e+15</td> <td> 0.000</td> <td>   -0.887</td> <td>   -0.887</td>\n",
       "</tr>\n",
       "</table>\n",
       "<table class=\"simpletable\">\n",
       "<tr>\n",
       "  <th>Omnibus:</th>       <td> 4.083</td> <th>  Durbin-Watson:     </th> <td>   0.844</td>\n",
       "</tr>\n",
       "<tr>\n",
       "  <th>Prob(Omnibus):</th> <td> 0.130</td> <th>  Jarque-Bera (JB):  </th> <td>   4.046</td>\n",
       "</tr>\n",
       "<tr>\n",
       "  <th>Skew:</th>          <td> 0.220</td> <th>  Prob(JB):          </th> <td>   0.132</td>\n",
       "</tr>\n",
       "<tr>\n",
       "  <th>Kurtosis:</th>      <td> 2.991</td> <th>  Cond. No.          </th> <td>    3.86</td>\n",
       "</tr>\n",
       "</table><br/><br/>Notes:<br/>[1] Standard Errors assume that the covariance matrix of the errors is correctly specified."
      ],
      "text/plain": [
       "<class 'statsmodels.iolib.summary.Summary'>\n",
       "\"\"\"\n",
       "                            OLS Regression Results                            \n",
       "==============================================================================\n",
       "Dep. Variable:                      y   R-squared:                       1.000\n",
       "Model:                            OLS   Adj. R-squared:                  1.000\n",
       "Method:                 Least Squares   F-statistic:                 3.470e+31\n",
       "Date:                Tue, 19 Dec 2023   Prob (F-statistic):               0.00\n",
       "Time:                        07:34:34   Log-Likelihood:                 16610.\n",
       "No. Observations:                 500   AIC:                        -3.321e+04\n",
       "Df Residuals:                     495   BIC:                        -3.319e+04\n",
       "Df Model:                           4                                         \n",
       "Covariance Type:            nonrobust                                         \n",
       "==============================================================================\n",
       "                 coef    std err          t      P>|t|      [0.025      0.975]\n",
       "------------------------------------------------------------------------------\n",
       "const         -0.9870    8.1e-17  -1.22e+16      0.000      -0.987      -0.987\n",
       "w0             0.3100   8.16e-17    3.8e+15      0.000       0.310       0.310\n",
       "w1             0.2100   8.25e-17   2.54e+15      0.000       0.210       0.210\n",
       "w2             0.1100   8.79e-17   1.25e+15      0.000       0.110       0.110\n",
       "x             -0.8871   9.13e-17  -9.72e+15      0.000      -0.887      -0.887\n",
       "==============================================================================\n",
       "Omnibus:                        4.083   Durbin-Watson:                   0.844\n",
       "Prob(Omnibus):                  0.130   Jarque-Bera (JB):                4.046\n",
       "Skew:                           0.220   Prob(JB):                        0.132\n",
       "Kurtosis:                       2.991   Cond. No.                         3.86\n",
       "==============================================================================\n",
       "\n",
       "Notes:\n",
       "[1] Standard Errors assume that the covariance matrix of the errors is correctly specified.\n",
       "\"\"\""
      ]
     },
     "execution_count": 84,
     "metadata": {},
     "output_type": "execute_result"
    }
   ],
   "source": [
    "sm.OLS(exog=sm.add_constant(df[['w0','w1','w2','x']]), \n",
    "      endog=df['y']).fit().summary()"
   ]
  },
  {
   "cell_type": "code",
   "execution_count": null,
   "id": "9cd22f67",
   "metadata": {},
   "outputs": [],
   "source": []
  }
 ],
 "metadata": {
  "kernelspec": {
   "display_name": "Python 3 (ipykernel)",
   "language": "python",
   "name": "python3"
  },
  "language_info": {
   "codemirror_mode": {
    "name": "ipython",
    "version": 3
   },
   "file_extension": ".py",
   "mimetype": "text/x-python",
   "name": "python",
   "nbconvert_exporter": "python",
   "pygments_lexer": "ipython3",
   "version": "3.9.13"
  }
 },
 "nbformat": 4,
 "nbformat_minor": 5
}
