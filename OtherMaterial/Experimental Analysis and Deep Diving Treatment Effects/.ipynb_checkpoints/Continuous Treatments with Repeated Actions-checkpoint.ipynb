{
 "cells": [
  {
   "cell_type": "markdown",
   "id": "e1b6e995",
   "metadata": {},
   "source": [
    "# Continuous Treatments and Repeated Actions\n",
    "Julian Hsu\n",
    "17-Dec-2023\n",
    "\n",
    "The purpose of this script is to understand the biases of understanding repeated actions, where the repeated actions have selection bias. "
   ]
  },
  {
   "cell_type": "code",
   "execution_count": 1,
   "id": "2a8278cf",
   "metadata": {},
   "outputs": [],
   "source": [
    "import numpy as np\n",
    "import os as os\n",
    "import pandas as pd"
   ]
  },
  {
   "cell_type": "markdown",
   "id": "2a61d307",
   "metadata": {},
   "source": [
    "## Generate serially correlated action data"
   ]
  },
  {
   "cell_type": "code",
   "execution_count": 30,
   "id": "3e914f12",
   "metadata": {},
   "outputs": [],
   "source": [
    "def repeated_action_data(N=200, timehorizon=3):\n",
    "    ## Setup covariates\n",
    "    X = np.random.normal(0,0.5, N)\n",
    "    df = pd.DataFrame(data=X,columns=['x'])\n",
    "    \n",
    "    ## First action\n",
    "    action = np.random.choice(2,N)        \n",
    "    df['w0']=action\n",
    "    ## Now allow for multiple downstream actions for a set number of times\n",
    "    for t in range(timehorizon):\n",
    "        \n",
    "    return df"
   ]
  },
  {
   "cell_type": "code",
   "execution_count": 31,
   "id": "078f4739",
   "metadata": {},
   "outputs": [
    {
     "data": {
      "text/html": [
       "<div>\n",
       "<style scoped>\n",
       "    .dataframe tbody tr th:only-of-type {\n",
       "        vertical-align: middle;\n",
       "    }\n",
       "\n",
       "    .dataframe tbody tr th {\n",
       "        vertical-align: top;\n",
       "    }\n",
       "\n",
       "    .dataframe thead th {\n",
       "        text-align: right;\n",
       "    }\n",
       "</style>\n",
       "<table border=\"1\" class=\"dataframe\">\n",
       "  <thead>\n",
       "    <tr style=\"text-align: right;\">\n",
       "      <th></th>\n",
       "      <th>x</th>\n",
       "      <th>w0</th>\n",
       "    </tr>\n",
       "  </thead>\n",
       "  <tbody>\n",
       "    <tr>\n",
       "      <th>0</th>\n",
       "      <td>0.318447</td>\n",
       "      <td>1</td>\n",
       "    </tr>\n",
       "    <tr>\n",
       "      <th>1</th>\n",
       "      <td>0.077635</td>\n",
       "      <td>0</td>\n",
       "    </tr>\n",
       "    <tr>\n",
       "      <th>2</th>\n",
       "      <td>-0.839301</td>\n",
       "      <td>0</td>\n",
       "    </tr>\n",
       "    <tr>\n",
       "      <th>3</th>\n",
       "      <td>0.534892</td>\n",
       "      <td>0</td>\n",
       "    </tr>\n",
       "    <tr>\n",
       "      <th>4</th>\n",
       "      <td>0.906780</td>\n",
       "      <td>1</td>\n",
       "    </tr>\n",
       "    <tr>\n",
       "      <th>...</th>\n",
       "      <td>...</td>\n",
       "      <td>...</td>\n",
       "    </tr>\n",
       "    <tr>\n",
       "      <th>195</th>\n",
       "      <td>-0.352377</td>\n",
       "      <td>0</td>\n",
       "    </tr>\n",
       "    <tr>\n",
       "      <th>196</th>\n",
       "      <td>-0.268238</td>\n",
       "      <td>1</td>\n",
       "    </tr>\n",
       "    <tr>\n",
       "      <th>197</th>\n",
       "      <td>0.127912</td>\n",
       "      <td>0</td>\n",
       "    </tr>\n",
       "    <tr>\n",
       "      <th>198</th>\n",
       "      <td>-0.145181</td>\n",
       "      <td>0</td>\n",
       "    </tr>\n",
       "    <tr>\n",
       "      <th>199</th>\n",
       "      <td>0.761848</td>\n",
       "      <td>0</td>\n",
       "    </tr>\n",
       "  </tbody>\n",
       "</table>\n",
       "<p>200 rows × 2 columns</p>\n",
       "</div>"
      ],
      "text/plain": [
       "            x  w0\n",
       "0    0.318447   1\n",
       "1    0.077635   0\n",
       "2   -0.839301   0\n",
       "3    0.534892   0\n",
       "4    0.906780   1\n",
       "..        ...  ..\n",
       "195 -0.352377   0\n",
       "196 -0.268238   1\n",
       "197  0.127912   0\n",
       "198 -0.145181   0\n",
       "199  0.761848   0\n",
       "\n",
       "[200 rows x 2 columns]"
      ]
     },
     "execution_count": 31,
     "metadata": {},
     "output_type": "execute_result"
    }
   ],
   "source": [
    "repeated_action_data()"
   ]
  },
  {
   "cell_type": "code",
   "execution_count": null,
   "id": "7cf9a3a5",
   "metadata": {},
   "outputs": [],
   "source": []
  }
 ],
 "metadata": {
  "kernelspec": {
   "display_name": "Python 3 (ipykernel)",
   "language": "python",
   "name": "python3"
  },
  "language_info": {
   "codemirror_mode": {
    "name": "ipython",
    "version": 3
   },
   "file_extension": ".py",
   "mimetype": "text/x-python",
   "name": "python",
   "nbconvert_exporter": "python",
   "pygments_lexer": "ipython3",
   "version": "3.9.13"
  }
 },
 "nbformat": 4,
 "nbformat_minor": 5
}
