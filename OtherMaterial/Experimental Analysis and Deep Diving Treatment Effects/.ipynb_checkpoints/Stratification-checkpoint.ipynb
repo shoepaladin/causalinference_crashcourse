{
 "cells": [
  {
   "cell_type": "markdown",
   "id": "99668a1c",
   "metadata": {},
   "source": [
    "# Stratification\n",
    "Julian Hsu\n",
    "\n",
    "20-sept-2024\n",
    "\n",
    "The purpose is to show how stratification addresses concerns that randomization does not create representative treatment samples. \n"
   ]
  },
  {
   "cell_type": "code",
   "execution_count": 114,
   "id": "719df7ae",
   "metadata": {},
   "outputs": [],
   "source": [
    "import numpy as np\n",
    "import pandas as pd\n",
    "\n",
    "%matplotlib inline\n",
    "\n",
    "import matplotlib\n",
    "import matplotlib.pyplot as plt\n",
    "\n",
    "import statsmodels.api as sm\n",
    "\n",
    "from random import shuffle"
   ]
  },
  {
   "cell_type": "markdown",
   "id": "f0feb45d",
   "metadata": {},
   "source": [
    "Create functions that generate data and assignment"
   ]
  },
  {
   "cell_type": "code",
   "execution_count": 115,
   "id": "a3e86a6e",
   "metadata": {},
   "outputs": [],
   "source": [
    "def get_data(n=None, quad=True):\n",
    "    x1 = np.random.normal(0,5,n)\n",
    "    y = -0.25 + 2*x1 + np.random.normal(0,2,n)  \n",
    "    if quad==True:\n",
    "        y += (2*x1)**2 \n",
    "        y += np.sin(1+8*x1)\n",
    "    else:\n",
    "        pass\n",
    "    return pd.DataFrame(data={'x1':x1, 'y':y})\n",
    "\n",
    "def assign_simple(treat_number = None, data=None):\n",
    "    indices = data.index.tolist()\n",
    "    shuffle(indices)\n",
    "    treat_indices = indices[0:treat_number]\n",
    "    w_output = data.index.isin(treat_indices)\n",
    "#     data['w']=0\n",
    "#     data.loc[treat_indices,'w'] =  1\n",
    "    return w_output\n",
    "\n",
    "def create_strat( x_quantiles=10, data=None):\n",
    "    data['x1_q'] = pd.qcut(data['x1'], q=x_quantiles, labels=np.arange(x_quantiles))\n",
    "        \n",
    "def assign_strat(strat_name='x1_q', treat_number=None, data=None):\n",
    "#     data['w_strat']=0\n",
    "    x_quantiles = len( data[strat_name].unique().tolist() )\n",
    "    treat_indices_agg = []\n",
    "    for q in data[strat_name].unique().tolist():\n",
    "        indices = data.loc[(data[strat_name]==q)].index.tolist()\n",
    "        shuffle(indices)\n",
    "        treat_indices = indices[0: int(treat_number/x_quantiles)]\n",
    "        treat_indices_agg.append(treat_indices)\n",
    "#         data.loc[treat_indices,'w_strat'] =  1\n",
    "    treat_indices_agg_mega_list = [item for sublist in treat_indices_agg for item in sublist]\n",
    "    w_output = data.index.isin(treat_indices_agg_mega_list)\n",
    "    return w_output"
   ]
  },
  {
   "cell_type": "code",
   "execution_count": 116,
   "id": "0f6a77c3",
   "metadata": {},
   "outputs": [
    {
     "name": "stdout",
     "output_type": "stream",
     "text": [
      "Test functions\n",
      "0.5\n",
      "w          0.5\n",
      "w_strat    0.5\n",
      "dtype: float64\n"
     ]
    }
   ],
   "source": [
    "print('Test functions')\n",
    "df = get_data(n=100)\n",
    "df['w']=assign_simple(treat_number=50, data=df)\n",
    "print( df['w'].mean() ) \n",
    "create_strat(x_quantiles=10, data=df)\n",
    "df['w_strat']=assign_strat(strat_name='x1_q', treat_number =50, data=df)\n",
    "print( df[['w','w_strat']].mean() ) "
   ]
  },
  {
   "cell_type": "code",
   "execution_count": 117,
   "id": "ea8f6471",
   "metadata": {},
   "outputs": [
    {
     "data": {
      "text/html": [
       "<div>\n",
       "<style scoped>\n",
       "    .dataframe tbody tr th:only-of-type {\n",
       "        vertical-align: middle;\n",
       "    }\n",
       "\n",
       "    .dataframe tbody tr th {\n",
       "        vertical-align: top;\n",
       "    }\n",
       "\n",
       "    .dataframe thead th {\n",
       "        text-align: right;\n",
       "    }\n",
       "</style>\n",
       "<table border=\"1\" class=\"dataframe\">\n",
       "  <thead>\n",
       "    <tr style=\"text-align: right;\">\n",
       "      <th></th>\n",
       "      <th>w</th>\n",
       "      <th>w_strat</th>\n",
       "    </tr>\n",
       "    <tr>\n",
       "      <th>x1_q</th>\n",
       "      <th></th>\n",
       "      <th></th>\n",
       "    </tr>\n",
       "  </thead>\n",
       "  <tbody>\n",
       "    <tr>\n",
       "      <th>0</th>\n",
       "      <td>0.7</td>\n",
       "      <td>0.5</td>\n",
       "    </tr>\n",
       "    <tr>\n",
       "      <th>1</th>\n",
       "      <td>0.5</td>\n",
       "      <td>0.5</td>\n",
       "    </tr>\n",
       "    <tr>\n",
       "      <th>2</th>\n",
       "      <td>0.4</td>\n",
       "      <td>0.5</td>\n",
       "    </tr>\n",
       "    <tr>\n",
       "      <th>3</th>\n",
       "      <td>0.3</td>\n",
       "      <td>0.5</td>\n",
       "    </tr>\n",
       "    <tr>\n",
       "      <th>4</th>\n",
       "      <td>0.6</td>\n",
       "      <td>0.5</td>\n",
       "    </tr>\n",
       "    <tr>\n",
       "      <th>5</th>\n",
       "      <td>0.7</td>\n",
       "      <td>0.5</td>\n",
       "    </tr>\n",
       "    <tr>\n",
       "      <th>6</th>\n",
       "      <td>0.6</td>\n",
       "      <td>0.5</td>\n",
       "    </tr>\n",
       "    <tr>\n",
       "      <th>7</th>\n",
       "      <td>0.2</td>\n",
       "      <td>0.5</td>\n",
       "    </tr>\n",
       "    <tr>\n",
       "      <th>8</th>\n",
       "      <td>0.3</td>\n",
       "      <td>0.5</td>\n",
       "    </tr>\n",
       "    <tr>\n",
       "      <th>9</th>\n",
       "      <td>0.7</td>\n",
       "      <td>0.5</td>\n",
       "    </tr>\n",
       "  </tbody>\n",
       "</table>\n",
       "</div>"
      ],
      "text/plain": [
       "        w  w_strat\n",
       "x1_q              \n",
       "0     0.7      0.5\n",
       "1     0.5      0.5\n",
       "2     0.4      0.5\n",
       "3     0.3      0.5\n",
       "4     0.6      0.5\n",
       "5     0.7      0.5\n",
       "6     0.6      0.5\n",
       "7     0.2      0.5\n",
       "8     0.3      0.5\n",
       "9     0.7      0.5"
      ]
     },
     "execution_count": 117,
     "metadata": {},
     "output_type": "execute_result"
    }
   ],
   "source": [
    "df.groupby('x1_q')[['w','w_strat']].mean()"
   ]
  },
  {
   "cell_type": "markdown",
   "id": "62d8c884",
   "metadata": {},
   "source": [
    "Write a function that assesses whether the treatment and control samples are similar. We use a t-test just comparing the mean."
   ]
  },
  {
   "cell_type": "code",
   "execution_count": 118,
   "id": "990e12d2",
   "metadata": {},
   "outputs": [],
   "source": [
    "from scipy import stats\n",
    "def assess_balance(data=None, treatment_name='w'):\n",
    "    diff = data.loc[data[treatment_name]==1]['x1'].mean() - data.loc[data[treatment_name]==0]['x1'].mean()\n",
    "    res= stats.ttest_ind(data.loc[data[treatment_name]==1]['x1']\n",
    "                   ,data.loc[data[treatment_name]==0]['x1'], equal_var=False)\n",
    "    return diff, res[1]\n",
    "\n",
    "def assess_count_instrata(data=None, strat_name='x1_q',\n",
    "                         treatment_name='w'):\n",
    "    ## Tell me the treatment allocation across all strata\n",
    "    return data.groupby(strat_name)[treatment_name].mean()\n",
    "    "
   ]
  },
  {
   "cell_type": "markdown",
   "id": "0d8401e0",
   "metadata": {},
   "source": [
    "Do simulations and assess how many times we need the balance test or not over whether or not we stratify. "
   ]
  },
  {
   "cell_type": "code",
   "execution_count": 147,
   "id": "7a68d168",
   "metadata": {},
   "outputs": [],
   "source": [
    "N =500\n",
    "sim_number = 200\n",
    "df_sim = pd.DataFrame()\n",
    "t = False\n",
    "df = get_data(n=N, quad=t)\n",
    "create_strat(x_quantiles=5, data=df)\n",
    "for s in range(sim_number):\n",
    "    ## Simple randomization\n",
    "    df['w']=assign_simple(treat_number= int(N/2), data=df)\n",
    "    simple_res = assess_balance(data=df,treatment_name='w') + (np.sum( (assess_count_instrata(data=df, strat_name='x1_q', treatment_name='w') - 0.5 )**2),)\n",
    "    df_sim = pd.concat([df_sim,\n",
    "                       pd.DataFrame(index=['simple'], data=[simple_res],columns=['difference','pvalue','allocation_miss'])])\n",
    "    \n",
    "    ## Stratification randomization\n",
    "    df['w_strat']=assign_strat(strat_name='x1_q', treat_number=int(N/2), data=df)\n",
    "    strat_res = assess_balance(data=df,treatment_name='w_strat') + (np.sum( (assess_count_instrata(data=df, strat_name='x1_q', treatment_name='w_strat') - 0.5 )**2),)\n",
    "    df_sim = pd.concat([df_sim,\n",
    "                       pd.DataFrame(index=['strat'], data=[strat_res],columns=['difference','pvalue','allocation_miss'])  ])  \n",
    "#     entry_df = pd.DataFrame(index=['simple','strat'], data={simple_res,strat_res}, columns=['difference','pvalue','allocation_miss'])\n",
    "#     df_sim = pd.concat([df_sim, entry_df])\n",
    "    \n",
    "df_sim.reset_index(inplace=True)"
   ]
  },
  {
   "cell_type": "code",
   "execution_count": 149,
   "id": "e58b559d",
   "metadata": {},
   "outputs": [
    {
     "data": {
      "text/html": [
       "<div>\n",
       "<style scoped>\n",
       "    .dataframe tbody tr th:only-of-type {\n",
       "        vertical-align: middle;\n",
       "    }\n",
       "\n",
       "    .dataframe tbody tr th {\n",
       "        vertical-align: top;\n",
       "    }\n",
       "\n",
       "    .dataframe thead th {\n",
       "        text-align: right;\n",
       "    }\n",
       "</style>\n",
       "<table border=\"1\" class=\"dataframe\">\n",
       "  <thead>\n",
       "    <tr style=\"text-align: right;\">\n",
       "      <th></th>\n",
       "      <th>difference</th>\n",
       "      <th>pvalue</th>\n",
       "      <th>allocation_miss</th>\n",
       "      <th>stat_sig</th>\n",
       "    </tr>\n",
       "    <tr>\n",
       "      <th>index</th>\n",
       "      <th></th>\n",
       "      <th></th>\n",
       "      <th></th>\n",
       "      <th></th>\n",
       "    </tr>\n",
       "  </thead>\n",
       "  <tbody>\n",
       "    <tr>\n",
       "      <th>simple</th>\n",
       "      <td>0.000451</td>\n",
       "      <td>0.457100</td>\n",
       "      <td>0.010494</td>\n",
       "      <td>0.03</td>\n",
       "    </tr>\n",
       "    <tr>\n",
       "      <th>strat</th>\n",
       "      <td>0.005741</td>\n",
       "      <td>0.799256</td>\n",
       "      <td>0.000000</td>\n",
       "      <td>0.00</td>\n",
       "    </tr>\n",
       "  </tbody>\n",
       "</table>\n",
       "</div>"
      ],
      "text/plain": [
       "        difference    pvalue  allocation_miss  stat_sig\n",
       "index                                                  \n",
       "simple    0.000451  0.457100         0.010494      0.03\n",
       "strat     0.005741  0.799256         0.000000      0.00"
      ]
     },
     "execution_count": 149,
     "metadata": {},
     "output_type": "execute_result"
    }
   ],
   "source": [
    "df_sim['stat_sig'] = (df_sim['pvalue'] < 0.05).astype(float)\n",
    "df_sim.groupby('index').mean()"
   ]
  },
  {
   "cell_type": "code",
   "execution_count": 150,
   "id": "5339ec3e",
   "metadata": {},
   "outputs": [
    {
     "data": {
      "text/plain": [
       "<matplotlib.legend.Legend at 0x2a0c23a1b20>"
      ]
     },
     "execution_count": 150,
     "metadata": {},
     "output_type": "execute_result"
    },
    {
     "data": {
      "image/png": "[encoded data removed]",
      "text/plain": [
       "<Figure size 800x200 with 1 Axes>"
      ]
     },
     "metadata": {},
     "output_type": "display_data"
    },
    {
     "data": {
      "image/png": "[encoded data removed]",
      "text/plain": [
       "<Figure size 800x200 with 1 Axes>"
      ]
     },
     "metadata": {},
     "output_type": "display_data"
    }
   ],
   "source": [
    "fig,ax = plt.subplots(figsize=(8,2))\n",
    "ax.hist( df_sim.loc[df_sim['index']=='simple']['difference'],label='simple', density=True, alpha=0.25)\n",
    "ax.hist( df_sim.loc[df_sim['index']=='strat']['difference'] ,label='stratified', density=True, alpha=0.25)\n",
    "ax.set_xlabel('Difference in key covariate')\n",
    "ax.set_title('Distribution in the difference in key covariate across simple and stratified randomization')\n",
    "ax.legend()\n",
    "\n",
    "\n",
    "fig,ax = plt.subplots(figsize=(8,2))\n",
    "ax.hist( df_sim.loc[df_sim['index']=='simple']['allocation_miss'],label='simple', density=True, alpha=0.25)\n",
    "ax.hist( df_sim.loc[df_sim['index']=='strat']['allocation_miss'] ,label='stratified', density=True, alpha=0.25)\n",
    "ax.set_xlabel('Difference in 50% allocation across strata')\n",
    "ax.set_title('Distribution in the difference in allocation miss across simple and stratified randomization')\n",
    "ax.legend()"
   ]
  },
  {
   "cell_type": "code",
   "execution_count": null,
   "id": "7ccfe489",
   "metadata": {},
   "outputs": [],
   "source": []
  },
  {
   "cell_type": "code",
   "execution_count": null,
   "id": "51168f5a",
   "metadata": {},
   "outputs": [],
   "source": []
  },
  {
   "cell_type": "code",
   "execution_count": null,
   "id": "5aca7675",
   "metadata": {},
   "outputs": [],
   "source": []
  }
 ],
 "metadata": {
  "kernelspec": {
   "display_name": "Python 3 (ipykernel)",
   "language": "python",
   "name": "python3"
  },
  "language_info": {
   "codemirror_mode": {
    "name": "ipython",
    "version": 3
   },
   "file_extension": ".py",
   "mimetype": "text/x-python",
   "name": "python",
   "nbconvert_exporter": "python",
   "pygments_lexer": "ipython3",
   "version": "3.9.13"
  }
 },
 "nbformat": 4,
 "nbformat_minor": 5
}
