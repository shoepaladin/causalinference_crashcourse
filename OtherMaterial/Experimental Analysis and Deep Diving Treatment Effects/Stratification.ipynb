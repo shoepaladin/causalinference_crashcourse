{
 "cells": [
  {
   "cell_type": "markdown",
   "id": "99668a1c",
   "metadata": {},
   "source": [
    "# Stratification\n",
    "Julian Hsu\n",
    "\n",
    "20-sept-2024\n",
    "\n",
    "The purpose is to show how power can increase if we stratify randomization. \n",
    "\n",
    "**blurb:** \n",
    "Squeeze some more statistical power from experiment with stratification - sometimes! Experimentation noise can drive incorrect decisions for any experiment. We can reduce this risk by increase the statistical power by increasing sample size. You can also increase statistical power by randomizing treatment in pre-defined segments, or strata. You can use stratification to lower the chance your treatment and control are different by chance (Imagine if everyone named Julian is in your treatment group!), and increase statistical power. \n",
    "\n",
    "I show with simulation data (check out the notebook here: https://github.com/shoepaladin/causalinference_crashcourse/blob/main/OtherMaterial/Experimental%20Analysis%20and%20Deep%20Diving%20Treatment%20Effects/Stratification.ipynb) that in the simplified setting when your outcome varies over your inputs (say, user tenure) linearly, then stratification will increase noise. Once the outcome is non-linear over inputs, then statistical power increases with more strata. There are decreasing returns to increasing the amount of strata. \n"
   ]
  },
  {
   "cell_type": "code",
   "execution_count": 88,
   "id": "719df7ae",
   "metadata": {},
   "outputs": [],
   "source": [
    "import numpy as np\n",
    "import pandas as pd\n",
    "\n",
    "%matplotlib inline\n",
    "\n",
    "import matplotlib\n",
    "import matplotlib.pyplot as plt\n",
    "\n",
    "import statsmodels.api as sm\n",
    "\n",
    "from random import shuffle"
   ]
  },
  {
   "cell_type": "markdown",
   "id": "f0feb45d",
   "metadata": {},
   "source": [
    "Create functions that generate data and assignment"
   ]
  },
  {
   "cell_type": "code",
   "execution_count": 196,
   "id": "a3e86a6e",
   "metadata": {},
   "outputs": [],
   "source": [
    "def get_data(n=None, quad=True):\n",
    "    x1 = np.random.normal(0,1,n)\n",
    "    y = -0.25 + 2*x1 + np.random.normal(0,0.5,n)  \n",
    "    if quad==True:\n",
    "        y += (2*x1)**2\n",
    "    else:\n",
    "        pass\n",
    "    return pd.DataFrame(data={'x1':x1, 'y':y})\n",
    "\n",
    "def assign_simple(treat_number = None, data=None):\n",
    "    indices = data.index.tolist()\n",
    "    shuffle(indices)\n",
    "    treat_indices = indices[0:treat_number]\n",
    "    data['w']=0\n",
    "    data.loc[treat_indices,'w'] =  1\n",
    "    data['y'] += data['w']*0.5\n",
    "    \n",
    "def assign_strat(treat_number = None, x_quantiles=10, data=None):\n",
    "    data['x1_q'] = pd.qcut(data['x1'], q=x_quantiles, labels=np.arange(x_quantiles))\n",
    "    data['w']=0\n",
    "    for q in np.arange(x_quantiles):\n",
    "        indices = data.loc[(data['x1_q']==q)].index.tolist()\n",
    "        shuffle(indices)\n",
    "        treat_indices = indices[0: int(treat_number/x_quantiles)]\n",
    "        data.loc[treat_indices,'w'] =  1\n",
    "    data['y'] += data['w']*0.5"
   ]
  },
  {
   "cell_type": "code",
   "execution_count": 197,
   "id": "0f6a77c3",
   "metadata": {},
   "outputs": [
    {
     "name": "stdout",
     "output_type": "stream",
     "text": [
      "Test functions\n",
      "0.5\n",
      "0.5\n"
     ]
    }
   ],
   "source": [
    "print('Test functions')\n",
    "df = get_data(n=100)\n",
    "assign_simple(treat_number=50, data=df)\n",
    "print( df['w'].mean() ) \n",
    "\n",
    "assign_strat(treat_number=50, x_quantiles=2, data=df)\n",
    "print( df['w'].mean() ) "
   ]
  },
  {
   "cell_type": "markdown",
   "id": "62d8c884",
   "metadata": {},
   "source": [
    "Write estimating functions"
   ]
  },
  {
   "cell_type": "code",
   "execution_count": 198,
   "id": "7ec1ccc5",
   "metadata": {},
   "outputs": [],
   "source": [
    "def simple_estimate(data=None, strat_name=None):\n",
    "    if strat_name !=None:\n",
    "        X = pd.concat( [sm.add_constant(data[['w','x1']]), pd.get_dummies(data[strat_name], drop_first=True)],axis=1)\n",
    "    else:\n",
    "        X = sm.add_constant(data[['w','x1']])\n",
    "    olsf = sm.OLS(endog=data['y'], exog=X).fit()\n",
    "    return olsf.params['w'], olsf.bse['w'], olsf"
   ]
  },
  {
   "cell_type": "markdown",
   "id": "0d8401e0",
   "metadata": {},
   "source": [
    "Do simulations. For a given dataset, do one experiment where we stratify and another where we do not.\n",
    "Let the results vary over whether the DGP allows y to have a quadratic relationship with x."
   ]
  },
  {
   "cell_type": "code",
   "execution_count": 210,
   "id": "3fa6bd41",
   "metadata": {},
   "outputs": [],
   "source": [
    "N = 200\n",
    "\n",
    "df_sim = pd.DataFrame()\n",
    "for t in [True,False]:\n",
    "    for s in range(50):\n",
    "        df = get_data(n=N, quad=t)\n",
    "        assign_simple(treat_number= int(N/2), data=df)\n",
    "        simple_res = simple_estimate(data=df)\n",
    "        entry = pd.DataFrame(index=[s], data={'simple_coef':simple_res[0], 'simple_se': simple_res[1]})\n",
    "        for strata_test in [5,10,15,20,25,30,35,40,45,50]:\n",
    "            assign_strat(treat_number=int(N/2), x_quantiles=strata_test, data=df)\n",
    "            strat_res = simple_estimate(data=df, strat_name='x1_q')\n",
    "            entry['strata_coef_{0}'.format(strata_test)] = strat_res[0]\n",
    "            entry['strata_se_{0}'.format(strata_test)] = strat_res[1]    \n",
    "            entry['quadratic']=t\n",
    "        df_sim = pd.concat([df_sim, entry ])"
   ]
  },
  {
   "cell_type": "code",
   "execution_count": 214,
   "id": "85333046",
   "metadata": {},
   "outputs": [
    {
     "data": {
      "image/png": "[encoded data removed]",
      "text/plain": [
       "<Figure size 800x300 with 2 Axes>"
      ]
     },
     "metadata": {},
     "output_type": "display_data"
    }
   ],
   "source": [
    "fig,ax = plt.subplots(ncols=2, figsize=(8,3), sharey=False)\n",
    "\n",
    "plot_ = df_sim.loc[df_sim['quadratic']==False][[e for e in df_sim.columns if '_se' in e]].mean()\n",
    "ax[0].bar(range(len(plot_)), 2*1.96*plot_ ) \n",
    "ax[0].set_xticks(range(len(plot_)))\n",
    "ax[0].set_xticklabels(['0'] +\n",
    "                      ['{0}'.format(o[10:]) for o in [e for e in df_sim.columns if '_se' in e and 'simple' not in e] ]\\\n",
    "                     ,rotation=90)\n",
    "\n",
    "plot_ = df_sim.loc[df_sim['quadratic']==True][[e for e in df_sim.columns if '_se' in e]].mean()\n",
    "ax[1].bar(range(len(plot_)), 2*1.95*plot_ ) \n",
    "ax[1].set_xticks(range(len(plot_)))\n",
    "ax[1].set_xticklabels(['0'] +\\\n",
    "                      ['{0}'.format(o[10:]) for o in [e for e in df_sim.columns if '_se' in e and 'simple' not in e] ]\n",
    "                     ,rotation=90)\n",
    "ax[0].set_title('Outcome is Linear in inputs')\n",
    "\n",
    "ax[0].set_ylabel('Length of \\n 95% Confidence Interval')\n",
    "ax[0].set_xlabel('# of Strata')\n",
    "ax[1].set_xlabel('# of Strata')\n",
    "ax[1].set_title('Outcome is Non-Linear in inputs')\n",
    "\n",
    "ax[0].grid()\n",
    "ax[1].grid()\n",
    "plt.tight_layout()\n",
    "plt.show()\n"
   ]
  },
  {
   "cell_type": "markdown",
   "id": "8e0e0df1",
   "metadata": {},
   "source": []
  },
  {
   "cell_type": "code",
   "execution_count": null,
   "id": "5339ec3e",
   "metadata": {},
   "outputs": [],
   "source": []
  },
  {
   "cell_type": "code",
   "execution_count": null,
   "id": "7ccfe489",
   "metadata": {},
   "outputs": [],
   "source": []
  },
  {
   "cell_type": "code",
   "execution_count": null,
   "id": "51168f5a",
   "metadata": {},
   "outputs": [],
   "source": []
  },
  {
   "cell_type": "code",
   "execution_count": null,
   "id": "5aca7675",
   "metadata": {},
   "outputs": [],
   "source": []
  }
 ],
 "metadata": {
  "kernelspec": {
   "display_name": "Python 3 (ipykernel)",
   "language": "python",
   "name": "python3"
  },
  "language_info": {
   "codemirror_mode": {
    "name": "ipython",
    "version": 3
   },
   "file_extension": ".py",
   "mimetype": "text/x-python",
   "name": "python",
   "nbconvert_exporter": "python",
   "pygments_lexer": "ipython3",
   "version": "3.9.13"
  }
 },
 "nbformat": 4,
 "nbformat_minor": 5
}
