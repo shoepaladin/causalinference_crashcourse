{
 "cells": [
  {
   "cell_type": "markdown",
   "id": "856cd401",
   "metadata": {},
   "source": [
    "# Inference on Winners\n",
    "Julian Hsu\n",
    "21-Oct-2023\n",
    "\n",
    "\n",
    "The purpose of this script is to show an example of Winners Curse as demonstrated in [\"Inference on Winners,\" NBER Paper](https://www.nber.org/papers/w25456). We are going to just show the problem, and refer the reader to the paper about the solution.\n",
    "\n",
    "\n"
   ]
  },
  {
   "cell_type": "markdown",
   "id": "9bfbc481",
   "metadata": {},
   "source": [
    "**Sound byte:**\n",
    "You set up your experiment perfectly and found a treatment-control different of 5%. \"Based on these results, we expect rolling out the treatment nation-wide will be 5%.\" That statement is incorrect. When looking at experiments where the **treatment is larger than control** , we are more likely to over-estimate the true impact.\n",
    "\n",
    "Using simulated data below (here), I show that the smaller the true impact is, the more likely your experiment over-estimates the true impact. \n",
    "\n",
    "To be clear, you've made the correct decision and decided to roll out the treatment. However, noise plays an asymmetric role in predicting the impact of the roll out. You've correctly accounting for noise causing you to make the wrong decision, but you also need to account for noise influencing your estimate.\n",
    "\n",
    "\n",
    "Are you interested in a solution? Want to learn more? Then check out \"Inference on Winners\" (paper: https://scholar.harvard.edu/files/iandrews/files/inference_on_winners.pdf \\ video: https://www.youtube.com/watch?v=Zs6FqGvRIuQ&t=404s&pp=ygUUaW5mZXJlbmNlIG9uIHdpbm5lcnM%3D) which inspired this post.\n",
    "\n",
    "___\n",
    "\n",
    "**Alternative sound byte:**\n",
    "Your decision to launch and rollout the winning treatment will over-estimate its actual impact. When looking at experiments where the **treatment was larger than control**, we are more likely to over estimate the true impact. The smaller the true effect size is, the greater the bias is. The root cause is that since you are only looking at instances when the treated is *estimated* to be greater than control, noise plays an asymmetric role because it is more likely to get you to launch your treatment. \n",
    "\n",
    "Next time you are experimenting with incremental improvements to your product, keep in mind that the actual impact of rolling our your treatment is more likely to be smaller than the impact you get from your experiment. \n",
    "\n",
    "Are you interested in a solution? Want to learn more? Then check out \"Inference on Winners\" (paper: https://scholar.harvard.edu/files/iandrews/files/inference_on_winners.pdf \\ video: https://www.youtube.com/watch?v=Zs6FqGvRIuQ&t=404s&pp=ygUUaW5mZXJlbmNlIG9uIHdpbm5lcnM%3D) which inspired this post.\n",
    "\n",
    "Check out the simulation notebook here (link), where I show that this is different from statistical power based on simulated evidence.\n"
   ]
  },
  {
   "cell_type": "markdown",
   "id": "57c8df28",
   "metadata": {},
   "source": [
    "**Setup in words:** Suppose we have a randomized treatment between different treatment groups.   We have a *policy* that picks the treatment (or control) with the largest estimate. This policy will:\n",
    "1. Over estimate the actual impact; and \n",
    "2. Does not accurately represent the confidence interval about its effectiveness.\n",
    "\n",
    "We can see this by focusing on a few statistics:\n",
    "1. Positive Median Bias - the probability the estimated treatment is greater than the true treatment, conditional on following the policy, is greater than 0.5; and \n",
    "2. Coverage probability - that the probability the confidence interval covers the true impact is less than 1- $\\alpha$"
   ]
  },
  {
   "cell_type": "code",
   "execution_count": 106,
   "id": "ac094475",
   "metadata": {},
   "outputs": [],
   "source": [
    "import numpy as np\n",
    "import pandas as pd\n",
    "\n",
    "from statsmodels.stats.weightstats import ttest_ind\n",
    "from statsmodels.stats.power import TTestIndPower\n",
    "\n",
    "%matplotlib inline\n",
    "\n",
    "import matplotlib\n",
    "import matplotlib.pyplot as plt\n"
   ]
  },
  {
   "cell_type": "code",
   "execution_count": 112,
   "id": "6406ce0c",
   "metadata": {},
   "outputs": [
    {
     "data": {
      "text/plain": [
       "0.9986074105881142"
      ]
     },
     "execution_count": 112,
     "metadata": {},
     "output_type": "execute_result"
    }
   ],
   "source": []
  },
  {
   "cell_type": "markdown",
   "id": "fd2fbbd7",
   "metadata": {},
   "source": [
    "## DGP and Setup\n",
    "We want to calculcate confidence intervals and point estimates, conditional on one treatment being the best one."
   ]
  },
  {
   "cell_type": "code",
   "execution_count": 117,
   "id": "5e0dd8c1",
   "metadata": {},
   "outputs": [],
   "source": [
    "def decide_treatment(te = [3], N=1000):\n",
    "    ## How many treatments are there\n",
    "    tn  = len(te)    \n",
    "    ## Assume arms are equally sized\n",
    "    n = int(N / (tn +1) )\n",
    "    \n",
    "    ## Collect average outcomes\n",
    "    outcome_avg = []\n",
    "    result_df = pd.DataFrame()\n",
    "    ## Control arm\n",
    "    x = np.random.normal(0,1, n )    \n",
    "    outcome_avg.append(np.average(x))\n",
    "    ## Treatment arm\n",
    "    ## Calculate the differences and confidence intervals\n",
    "    ## between each treatment and control\n",
    "    for t in range(tn):\n",
    "        x1 = np.random.normal(0,1,n)+te[t]\n",
    "        \n",
    "        diff = np.average(x1) - np.average(x)\n",
    "                \n",
    "        tstat,pvalue,df = ttest_ind(x,x1, alternative='two-sided')\n",
    "        se = np.abs(diff/tstat)\n",
    "        \n",
    "        result_row = pd.DataFrame(\n",
    "            index=[t]\n",
    "            ,data={'treatment':t\n",
    "            ,'se':se\n",
    "            ,'pvalue':pvalue\n",
    "             ,'ci95_lower':diff-1.96*se\n",
    "             ,'ci95_upper':diff+1.96*se\n",
    "            ,'diff':diff\n",
    "            ,'true_diff':te[t]})\n",
    "        result_df = pd.concat([result_df, result_row])\n",
    "        outcome_avg.append(np.average(x1))\n",
    "    \n",
    "    ## Pick the largest treatment\n",
    "    winner = np.argmax(outcome_avg)\n",
    "    result_df['winner']=winner\n",
    "    return result_df\n",
    "    "
   ]
  },
  {
   "cell_type": "code",
   "execution_count": 118,
   "id": "3a674554",
   "metadata": {},
   "outputs": [],
   "source": [
    "sim_number = 200"
   ]
  },
  {
   "cell_type": "code",
   "execution_count": 129,
   "id": "314c76ba",
   "metadata": {},
   "outputs": [],
   "source": [
    "df = pd.DataFrame()\n",
    "df['power']=0\n",
    "for s in range(sim_number):\n",
    "    for t in [0.001, 0.0025, 0.005, 0.0075, 0.01, 0.02, 0.03, 0.05, 0.07, 0.08, 0.1, 0.2, 0.3,0.4, 0.5, 0.6, 0.7, 0.75]:\n",
    "        df = pd.concat([df, decide_treatment(te = [t], N=100)])\n",
    "        df['power'].fillna( TTestIndPower().solve_power(effect_size = t\n",
    "                         ,nobs1=50\n",
    "                         ,alpha=0.05\n",
    "                         ,power=None\n",
    "                         ,ratio=1),inplace=True )\n",
    "    "
   ]
  },
  {
   "cell_type": "code",
   "execution_count": 130,
   "id": "f9de0c4c",
   "metadata": {},
   "outputs": [],
   "source": [
    "'''\n",
    " Calculate the probability the estimated treatment is greater than the true estimate.\n",
    " \n",
    " Calculate the probability the 95% confidence interval contains the true effect\n",
    "'''\n",
    "df['estimated_greater_than_true'] = df['diff'] > df['true_diff']\n",
    "df['contains_true_effect'] = df['true_diff'].between(df['ci95_lower'], df['ci95_upper'])\n",
    "df['stat_sig'] = df['pvalue'] < 0.05\n",
    "\n",
    "df_plot = df.groupby(['true_diff','winner']).agg(\n",
    "estimated_greater_than_true=('estimated_greater_than_true','mean')\n",
    ", contains_true_effect=('contains_true_effect','mean')    \n",
    ", estimated_diff=('diff','mean')\n",
    ", N = ('estimated_greater_than_true','count')\n",
    ", power=('power','mean'))\n",
    "\n",
    "df_plot_stat_sig =  df.loc[df['stat_sig']==1].groupby(['true_diff','winner']).agg(\n",
    "estimated_greater_than_true=('estimated_greater_than_true','mean')\n",
    ", contains_true_effect=('contains_true_effect','mean')    \n",
    ", estimated_diff=('diff','mean')\n",
    ", N = ('estimated_greater_than_true','count')\n",
    ", power=('power','mean'))"
   ]
  },
  {
   "cell_type": "code",
   "execution_count": 131,
   "id": "54ef5d43",
   "metadata": {},
   "outputs": [],
   "source": [
    "df_plot.reset_index(inplace=True)\n",
    "df_plot_stat_sig.reset_index(inplace=True)"
   ]
  },
  {
   "cell_type": "code",
   "execution_count": 136,
   "id": "73c6e8a2",
   "metadata": {},
   "outputs": [
    {
     "name": "stderr",
     "output_type": "stream",
     "text": [
      "No artists with labels found to put in legend.  Note that artists whose label start with an underscore are ignored when legend() is called with no argument.\n"
     ]
    },
    {
     "data": {
      "image/png": "[encoded data removed]",
      "text/plain": [
       "<Figure size 900x300 with 2 Axes>"
      ]
     },
     "metadata": {},
     "output_type": "display_data"
    }
   ],
   "source": [
    "'''\n",
    "Plot these\n",
    "'''\n",
    "\n",
    "fig,ax = plt.subplots(ncols=2,nrows=1,figsize=(9,3))\n",
    "df_plot_w = df_plot.loc[df_plot['winner']==1]\n",
    "df_plot_stat_sig_w = df_plot_stat_sig.loc[df_plot['winner']==1]\n",
    "ax[0].plot(df_plot_w['true_diff'], df_plot_w['estimated_greater_than_true'], marker='x')\n",
    "# ax[0].plot(df_plot_stat_sig_w['true_diff'], df_plot_stat_sig_w['estimated_greater_than_true'], marker='o', color='seagreen')\n",
    "ax[0].set_ylabel('Probability Estimated Value \\nis Greater Than True Effect')\n",
    "ax[0].set_xlabel('True Effect')\n",
    "ax[0].grid()\n",
    "ax[0].legend()\n",
    "\n",
    "# ax[1].plot(df_plot_w['true_diff'], df_plot_w['contains_true_effect'], marker='>')\n",
    "# ax[1].plot(df_plot_w['true_diff'], [0.95]*len(df_plot_w), color='black')\n",
    "# ax[1].set_ylabel('Probability Winner Treatment\\n contains True Effect')\n",
    "\n",
    "ax[1].plot(df_plot_w['true_diff'], df_plot_w['power'], marker='>')\n",
    "ax[1].plot(df_plot_w['true_diff'], [0.80]*len(df_plot_w), color='black')\n",
    "ax[1].set_ylabel('Power')\n",
    "\n",
    "\n",
    "fig.tight_layout()"
   ]
  },
  {
   "cell_type": "code",
   "execution_count": null,
   "id": "5453bfaf",
   "metadata": {},
   "outputs": [],
   "source": []
  },
  {
   "cell_type": "code",
   "execution_count": null,
   "id": "49da11f0",
   "metadata": {},
   "outputs": [],
   "source": []
  }
 ],
 "metadata": {
  "kernelspec": {
   "display_name": "Python 3 (ipykernel)",
   "language": "python",
   "name": "python3"
  },
  "language_info": {
   "codemirror_mode": {
    "name": "ipython",
    "version": 3
   },
   "file_extension": ".py",
   "mimetype": "text/x-python",
   "name": "python",
   "nbconvert_exporter": "python",
   "pygments_lexer": "ipython3",
   "version": "3.9.13"
  }
 },
 "nbformat": 4,
 "nbformat_minor": 5
}
