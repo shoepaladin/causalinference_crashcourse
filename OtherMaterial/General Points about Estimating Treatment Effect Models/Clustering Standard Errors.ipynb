{
 "cells": [
  {
   "cell_type": "markdown",
   "id": "5af2f00b",
   "metadata": {},
   "source": [
    "# Clustering Standard Errors\n",
    "Julian Hsu\n",
    "1-Apr-2024\n",
    "\n",
    "The purpose of this script is to show how ignoring clustered errors will result in over-estimating precision.\n",
    "\n",
    "**sound byte**\n",
    "\n",
    "Is your experiment randomized at the user-group level, but your analysis uses user-level data? Then you are most likely incorrectly concluding your estimate is statistically significant. When your randomization and analysis level are not aligned,  classical approaches will give you a confidence interval and p-value that are too small. This is because classical approaches assume that errors are independent across users. \n",
    "\n",
    "This is the reason why you are not estimating the impact of your user-level experiment on individual user-transactions. You aggregate them up to the user. When you randomize at a group level, such as city or user-team level, then errors are correlated within that group. For example, if a treated city also happens to have more traffic, then all users in that city share the same impact from traffic. \n",
    "\n",
    "I show with simulations below that either (1) clustering standard errors with user-level data, or (2) aggregating your data to the user-group level, will correctly show you that randomizing at user-group level gives you less precise accurates than randomizing at the finer grain user level.\n"
   ]
  },
  {
   "cell_type": "code",
   "execution_count": 2,
   "id": "18d2c6c9",
   "metadata": {},
   "outputs": [],
   "source": [
    "import numpy as np\n",
    "import pandas as pd\n",
    "import statsmodels.api as sm\n",
    "\n",
    "from matplotlib import gridspec\n",
    "import matplotlib.pyplot as plt\n",
    "%matplotlib inline  \n"
   ]
  },
  {
   "cell_type": "markdown",
   "id": "b3406267",
   "metadata": {},
   "source": [
    "## Data generating functions and Estimating Functions"
   ]
  },
  {
   "cell_type": "code",
   "execution_count": 3,
   "id": "7b748820",
   "metadata": {},
   "outputs": [],
   "source": [
    "def dgp(N=400, impact=0.5):\n",
    "    err = np.random.normal(0,1,N)\n",
    "    df_grp = pd.DataFrame(data={'id': np.arange( int(N/10))})\n",
    "    df_grp['w'] = np.random.choice(2, len(df_grp))\n",
    "    df_grp['gp_err'] = np.random.normal(0,0.5, len(df_grp))\n",
    "    \n",
    "    df = pd.DataFrame(data = {'id': np.random.choice(int(N/10), N)})\n",
    "    df = df.merge(df_grp, how='inner', on='id')\n",
    "    df['x'] = np.random.uniform(0,1,N)\n",
    "    df['y'] = impact*df['w'] + df['gp_err'] + np.random.uniform(-2,1)* df['x']+ err\n",
    "    return df\n"
   ]
  },
  {
   "cell_type": "code",
   "execution_count": 4,
   "id": "b0044998",
   "metadata": {},
   "outputs": [],
   "source": [
    "def different_estimates(df=None):\n",
    "    classic=sm.OLS(exog=sm.add_constant(df[['w','x']])               \n",
    "       , endog=df['y'] ).fit()\n",
    "    A = classic.params['w'], classic.bse['w']\n",
    "    \n",
    "    \n",
    "    cluster=sm.OLS(exog=sm.add_constant(df[['w','x']])               \n",
    "       , endog=df['y'] ).fit(cov_type='cluster', cov_kwds={'groups':df['id']})\n",
    "    B = cluster.params['w'], cluster.bse['w']\n",
    "    \n",
    "    \n",
    "    df_g = df.groupby('id').agg( w=('w','max')\n",
    "                            , x=('x','mean')\n",
    "                           , y=('y','mean'))\n",
    "    cluster=sm.OLS(exog=sm.add_constant(df_g[['w','x']])               \n",
    "           , endog=df_g['y'] ).fit()\n",
    "    C = cluster.params['w'], cluster.bse['w']\n",
    "    \n",
    "    return pd.DataFrame( data={'estimates':['coef','se']\n",
    "                    , 'modelclassic':A\n",
    "                    , 'modelcluster':B\n",
    "                    , 'modelgroup':C})"
   ]
  },
  {
   "cell_type": "markdown",
   "id": "e5455970",
   "metadata": {},
   "source": [
    "## Simulations"
   ]
  },
  {
   "cell_type": "code",
   "execution_count": 5,
   "id": "1605fef2",
   "metadata": {},
   "outputs": [],
   "source": [
    "sim_range=20"
   ]
  },
  {
   "cell_type": "code",
   "execution_count": 6,
   "id": "8b2f4dfe",
   "metadata": {},
   "outputs": [],
   "source": [
    "df_sim = pd.DataFrame()\n",
    "for s in range(sim_range):\n",
    "    data = dgp(N=200, impact=0.15)\n",
    "    row = different_estimates(df=data)\n",
    "    row['sim']=s\n",
    "    df_sim = pd.concat([df_sim, row])"
   ]
  },
  {
   "cell_type": "code",
   "execution_count": 13,
   "id": "0fda54dc",
   "metadata": {},
   "outputs": [
    {
     "data": {
      "image/png": "[encoded data removed]",
      "text/plain": [
       "<Figure size 500x200 with 1 Axes>"
      ]
     },
     "metadata": {},
     "output_type": "display_data"
    },
    {
     "data": {
      "text/plain": [
       "<Figure size 640x480 with 0 Axes>"
      ]
     },
     "metadata": {},
     "output_type": "display_data"
    }
   ],
   "source": [
    "fig, ax = plt.subplots(ncols=1, nrows=1, figsize=(5,2))\n",
    "\n",
    "parts=ax.barh(\n",
    "        np.arange(3)\n",
    "        , df_sim.loc[df_sim['estimates']=='se'][['modelclassic'\n",
    "                                                 , 'modelcluster'\n",
    "                                                 , 'modelgroup']].mean()\n",
    "    , color='seagreen')\n",
    "\n",
    "ax.set_yticks(np.arange(0,3))\n",
    "ax.set_yticklabels( ['classic\\n assume independent errors','model correlated\\n errors','aggregate \\n data to group level']) \n",
    "ax.grid()\n",
    "ax.set_ylabel('Model Approach')\n",
    "ax.set_xlabel('Standard Error') \n",
    "ax.set_facecolor('linen')\n",
    "plt.show()\n",
    "plt.tight_layout()\n",
    "\n",
    "\n"
   ]
  },
  {
   "cell_type": "code",
   "execution_count": null,
   "id": "2feb20b0",
   "metadata": {},
   "outputs": [],
   "source": [
    "fig, ax = plt.subplots(ncols=1, nrows=1, figsize=(5,2))\n",
    "\n",
    "parts=ax.violinplot(\n",
    "        df_sim.loc[df_sim['estimates']=='se'][['modelclassic'\n",
    "                                                 , 'modelcluster'\n",
    "                                                 , 'modelgroup']], showmeans=True, showmedians=False, showextrema=False\n",
    "                                                )\n",
    "\n",
    "for pc in parts['bodies']:\n",
    "    pc.set_facecolor('coral')\n",
    "    pc.set_edgecolor('black')\n",
    "    pc.set_alpha(1)\n",
    "\n",
    "ax.set_xticks(np.arange(1,4))\n",
    "ax.set_xticklabels( ['classic','clustered','aggregated\\ndata']) \n",
    "ax.grid()\n",
    "ax.set_xlabel('Model Approach')\n",
    "ax.set_ylabel('Standard Error') \n",
    "ax.set_facecolor('linen')\n",
    "plt.show()\n",
    "plt.tight_layout()\n",
    "\n",
    "\n"
   ]
  },
  {
   "cell_type": "code",
   "execution_count": null,
   "id": "670b01cd",
   "metadata": {},
   "outputs": [],
   "source": []
  },
  {
   "cell_type": "code",
   "execution_count": null,
   "id": "9efd983a",
   "metadata": {},
   "outputs": [],
   "source": []
  }
 ],
 "metadata": {
  "kernelspec": {
   "display_name": "Python 3 (ipykernel)",
   "language": "python",
   "name": "python3"
  },
  "language_info": {
   "codemirror_mode": {
    "name": "ipython",
    "version": 3
   },
   "file_extension": ".py",
   "mimetype": "text/x-python",
   "name": "python",
   "nbconvert_exporter": "python",
   "pygments_lexer": "ipython3",
   "version": "3.9.13"
  }
 },
 "nbformat": 4,
 "nbformat_minor": 5
}
