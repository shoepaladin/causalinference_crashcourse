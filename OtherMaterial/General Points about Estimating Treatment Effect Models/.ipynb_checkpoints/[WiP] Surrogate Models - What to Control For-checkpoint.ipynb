{
 "cells": [
  {
   "cell_type": "markdown",
   "id": "4e58a425",
   "metadata": {},
   "source": [
    "# Surrogate Models - what to Control For\n",
    "Julian Hsu\n",
    "19 Dec 2023\n",
    "\n",
    "The purpose of this script is to understand criteria for surrogates in a given surrogate model. Specifically, we want to know:\n",
    "\n",
    "1. The biases from omitting a surrogate; and\n",
    "2. Whether there are benefits from controlling for additional surrogates. "
   ]
  },
  {
   "cell_type": "code",
   "execution_count": null,
   "id": "09a8aa31",
   "metadata": {},
   "outputs": [],
   "source": []
  },
  {
   "cell_type": "code",
   "execution_count": null,
   "id": "ed1a8c25",
   "metadata": {},
   "outputs": [],
   "source": []
  }
 ],
 "metadata": {
  "kernelspec": {
   "display_name": "Python 3 (ipykernel)",
   "language": "python",
   "name": "python3"
  },
  "language_info": {
   "codemirror_mode": {
    "name": "ipython",
    "version": 3
   },
   "file_extension": ".py",
   "mimetype": "text/x-python",
   "name": "python",
   "nbconvert_exporter": "python",
   "pygments_lexer": "ipython3",
   "version": "3.9.13"
  }
 },
 "nbformat": 4,
 "nbformat_minor": 5
}
