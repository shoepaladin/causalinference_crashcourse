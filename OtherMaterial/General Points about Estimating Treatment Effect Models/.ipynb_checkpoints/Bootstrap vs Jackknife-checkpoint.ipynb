{
 "cells": [
  {
   "cell_type": "markdown",
   "id": "71c076ba",
   "metadata": {},
   "source": [
    "# Bootstrap vs Jackknife\n",
    "Julian Hsu\n",
    "24-Aug-2024\n",
    "\n",
    "The purpose of this script is to compare the performance of the bootstrap and jackknife over different sample sizes and simulations."
   ]
  },
  {
   "cell_type": "code",
   "execution_count": 43,
   "id": "f57a5594",
   "metadata": {},
   "outputs": [],
   "source": [
    "import numpy as np\n",
    "import pandas as pd\n",
    "import seaborn as sns\n",
    "\n",
    "from matplotlib import gridspec\n",
    "import matplotlib.pyplot as plt\n",
    "%matplotlib inline  \n",
    "\n",
    "import statsmodels.api as sm\n",
    "\n",
    "from IPython.display import display    \n"
   ]
  },
  {
   "cell_type": "code",
   "execution_count": 28,
   "id": "2f59bddb",
   "metadata": {},
   "outputs": [],
   "source": [
    "def random_data(n=1000, coef= 1):\n",
    "    x1 = np.random.uniform(-1,1, n)\n",
    "    w = np.random.choice(2, n)\n",
    "    y = np.random.uniform() + coef*w + np.random.normal(0, 1, n)\n",
    "    return pd.DataFrame(data={'x1': x1, 'w':w, 'y':y})\n",
    "\n",
    "def ols(data=None):\n",
    "    beta = sm.OLS(endog = data['y'], exog=sm.add_constant(data[['x1','w']])).fit().params['w']\n",
    "    return beta\n",
    "\n",
    "def bootstrap(data=None, reps=100):\n",
    "    beta_list = []\n",
    "    for r in range(reps):\n",
    "        sim_data = data.sample(frac=1, replace=True)\n",
    "        beta_hat = ols(data=sim_data)\n",
    "        beta_list.append(beta_hat)\n",
    "    return beta_list \n",
    "\n",
    "def jknife(data=None):\n",
    "    beta_list = []\n",
    "    for n in range(len(data)):\n",
    "        sim_data = data.loc[data.index!=n]\n",
    "        beta_hat = ols(data=sim_data)\n",
    "        beta_list.append(beta_hat)\n",
    "    return beta_list \n"
   ]
  },
  {
   "cell_type": "code",
   "execution_count": null,
   "id": "ab9dc8d9",
   "metadata": {},
   "outputs": [],
   "source": [
    "samplesize_list = [50,100,200]\n",
    "btsim_list = [20,50,100, 150, 200, 500]\n",
    "df_results= pd.DataFrame()\n",
    "for samplesize in samplesize_list:\n",
    "    entry_data={}\n",
    "    df = random_data(n = samplesize)\n",
    "    jknife_results = jknife(data=df)\n",
    "    entry_data['n']= samplesize\n",
    "    entry_data['jknife_se'] = (samplesize/(samplesize-1)) * np.var(jknife_results)\n",
    "    for btsim in btsim_list:\n",
    "        bootstrap_results = bootstrap(data=df, reps=btsim)\n",
    "        entry_data['bt'] = btsim \n",
    "        entry_data['bt_se'] = (1/(btsim-1))*np.var(bootstrap_results) \n",
    "        df_results= pd.concat([df_results, pd.DataFrame(index=[samplesize], data=entry_data)])"
   ]
  },
  {
   "cell_type": "code",
   "execution_count": null,
   "id": "fbedd47a",
   "metadata": {},
   "outputs": [],
   "source": [
    "fig,ax = plt.subplots(ncols=len(samplesize_list),nrows=1,figsize=(3*len(samplesize_list),4))\n",
    "for po in enumerate(samplesize_list):\n",
    "    plot_ = df_results.loc[df_results['n']==po[1]]\n",
    "    ax[po[0]].plot(plot_['bt'], plot_['bt_se'], label='Bootstrap')\n",
    "    ax[po[0]].plot(plot_['bt'], plot_['jknife_se'], label='Jackknife')\n",
    "    ax[po[0]].set_xlabel('Bootstrap Reps')\n",
    "    ax[po[0]].set_ylabel('Standard Error')\n",
    "    ax[po[0]].legend()\n",
    "    ax[po[0]].set_title('Sample Size = {0}'.format(po[1]))\n",
    "plt.tight_layout()\n",
    "fig.set_facecolor('mistyrose')\n",
    "plt.show()\n"
   ]
  },
  {
   "cell_type": "code",
   "execution_count": null,
   "id": "677ed51b",
   "metadata": {},
   "outputs": [],
   "source": []
  }
 ],
 "metadata": {
  "kernelspec": {
   "display_name": "Python 3 (ipykernel)",
   "language": "python",
   "name": "python3"
  },
  "language_info": {
   "codemirror_mode": {
    "name": "ipython",
    "version": 3
   },
   "file_extension": ".py",
   "mimetype": "text/x-python",
   "name": "python",
   "nbconvert_exporter": "python",
   "pygments_lexer": "ipython3",
   "version": "3.9.13"
  }
 },
 "nbformat": 4,
 "nbformat_minor": 5
}
