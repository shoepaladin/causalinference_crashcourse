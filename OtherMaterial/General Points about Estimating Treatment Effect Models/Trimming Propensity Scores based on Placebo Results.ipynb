{
 "cells": [
  {
   "cell_type": "markdown",
   "id": "94e36f44",
   "metadata": {},
   "source": [
    "# Trimming Propensity Scores based on Placebo Results\n",
    "Julian Hsu\n",
    "25-dec-2023\n",
    "\n",
    "The purpose of this script is to show we can validate how much to trim propensity scores based on how they estimate a placebo result. We also want to show that this placebo result needs to be correlated with our outcome of interest, rather than a random number."
   ]
  },
  {
   "cell_type": "code",
   "execution_count": 284,
   "id": "4921e7d0",
   "metadata": {},
   "outputs": [],
   "source": [
    "import stnomics as st\n",
    "import numpy as np\n",
    "import pandas as pd\n",
    "\n",
    "from matplotlib import gridspec\n",
    "import matplotlib.pyplot as plt\n",
    "%matplotlib inline  \n",
    "\n",
    "import statsmodels.api as sm\n",
    "import statsmodels.formula.api as smf\n",
    "from statsmodels.discrete.conditional_models import ConditionalLogit\n",
    "\n",
    "from IPython.display import display    \n",
    "\n",
    "\n",
    "import scipy.stats \n",
    "\n",
    "from sklearn.linear_model import LogisticRegression, LinearRegression, Lasso, Ridge, LassoCV, LogisticRegressionCV\n",
    "from sklearn.ensemble import RandomForestRegressor, RandomForestClassifier\n",
    "from sklearn.neural_network import MLPRegressor, MLPClassifier\n",
    "from sklearn.metrics import mean_squared_error\n",
    "\n"
   ]
  },
  {
   "cell_type": "markdown",
   "id": "822a730e",
   "metadata": {},
   "source": [
    "## DGP Function\n",
    "We want to make sure that we have plenty of extreme propensity scores, which will necessitate our use of propensity trimming."
   ]
  },
  {
   "cell_type": "code",
   "execution_count": 415,
   "id": "c8108860",
   "metadata": {},
   "outputs": [],
   "source": [
    "def data_gp(N=1000, te=1):\n",
    "    \n",
    "        \n",
    "    ## Make one variable a lognormal distribution to make sure we have extreme propensity scores\n",
    "    x0 = np.abs(np.random.normal(0,1,N) )\n",
    "    \n",
    "    df = pd.DataFrame(data={'x0':x0})\n",
    "    x_list = [e for e in df.columns if 'x' in e]    \n",
    "    \n",
    "    ## Assign treatment status    \n",
    "    ## Make each feature substnatially significant, so don't let them center around zero\n",
    "    latent_w = np.random.uniform(0,1)*df['x0']+ np.random.normal(0,3,N)\n",
    "    latent_w = np.exp(latent_w) / (1 + np.exp(latent_w))\n",
    "    df['latent_w'] = latent_w\n",
    "    \n",
    "    df['w'] = (df['latent_w']  + np.random.uniform(-1,1,N) > df['latent_w'].quantile(0.5) ).astype(float)        \n",
    "\n",
    "    \n",
    "    ## Assign outcome\n",
    "    ## Make each feature substnatially significant, so don't let them center around zero\n",
    "    random = np.random.uniform(0,1)\n",
    "    if random > 0.5:\n",
    "        df['y'] = df['x0']*np.random.uniform(-3,-2) + np.random.normal(0,1,N)\n",
    "    else:\n",
    "        df['y'] = df['x0']*np.random.uniform(2,3) + np.random.normal(0,1,N)\n",
    "\n",
    "    df['y_0'] = df['y'].values\n",
    "    df['y'] += df['w']*te\n",
    "    df['random'] = np.random.normal(0,1,N)\n",
    "    \n",
    "    return df"
   ]
  },
  {
   "cell_type": "code",
   "execution_count": 411,
   "id": "d3d03036",
   "metadata": {},
   "outputs": [],
   "source": [
    "def ipw_estimate(data=df, pscore=None, outcome=None, treatment='w'):\n",
    "    treat_weighted = data.loc[data[treatment]==1][outcome] /data.loc[data[treatment]==1][pscore]\n",
    "    control_weighted = data.loc[data[treatment]==0][outcome] /(1-data.loc[data[treatment]==0][pscore])\n",
    "    return np.average(treat_weighted) - np.average(control_weighted)"
   ]
  },
  {
   "cell_type": "code",
   "execution_count": 83,
   "id": "76e2c36b",
   "metadata": {},
   "outputs": [],
   "source": [
    "df_results = pd.DataFrame()\n",
    "\n",
    "for s in range(100):\n",
    "    df = data_gp(te=2)\n",
    "    \n",
    "    for outcome in ['y','y_0','random']:\n",
    "        a=ipw_estimate(data=df.loc[df['latent_w'].between(0,1)]\n",
    "                       , pscore='latent_w',outcome=outcome)\n",
    "        b=ipw_estimate(data=df.loc[df['latent_w'].between(0.0001,0.9999)]\n",
    "                       , pscore='latent_w',outcome=outcome)\n",
    "        c=ipw_estimate(data=df.loc[df['latent_w'].between(0.01,0.99)]\n",
    "                       , pscore='latent_w',outcome=outcome)\n",
    "        row = pd.DataFrame(index=[0],data={'outcome':outcome, 'all':a, 'between_0.01_0.99':c})\n",
    "        row['sim']=s\n",
    "        df_results=pd.concat([df_results,row])"
   ]
  },
  {
   "cell_type": "code",
   "execution_count": 84,
   "id": "87ab18a6",
   "metadata": {},
   "outputs": [
    {
     "data": {
      "text/html": [
       "<div>\n",
       "<style scoped>\n",
       "    .dataframe tbody tr th:only-of-type {\n",
       "        vertical-align: middle;\n",
       "    }\n",
       "\n",
       "    .dataframe tbody tr th {\n",
       "        vertical-align: top;\n",
       "    }\n",
       "\n",
       "    .dataframe thead th {\n",
       "        text-align: right;\n",
       "    }\n",
       "</style>\n",
       "<table border=\"1\" class=\"dataframe\">\n",
       "  <thead>\n",
       "    <tr style=\"text-align: right;\">\n",
       "      <th></th>\n",
       "      <th>outcome</th>\n",
       "      <th>all</th>\n",
       "      <th>between_0.01_0.99</th>\n",
       "      <th>sim</th>\n",
       "    </tr>\n",
       "  </thead>\n",
       "  <tbody>\n",
       "    <tr>\n",
       "      <th>0</th>\n",
       "      <td>y</td>\n",
       "      <td>-27.239314</td>\n",
       "      <td>-20.196751</td>\n",
       "      <td>0</td>\n",
       "    </tr>\n",
       "    <tr>\n",
       "      <th>0</th>\n",
       "      <td>y_0</td>\n",
       "      <td>-30.570761</td>\n",
       "      <td>-23.582302</td>\n",
       "      <td>0</td>\n",
       "    </tr>\n",
       "    <tr>\n",
       "      <th>0</th>\n",
       "      <td>random</td>\n",
       "      <td>1.546912</td>\n",
       "      <td>0.770017</td>\n",
       "      <td>0</td>\n",
       "    </tr>\n",
       "    <tr>\n",
       "      <th>0</th>\n",
       "      <td>y</td>\n",
       "      <td>26.824387</td>\n",
       "      <td>16.237308</td>\n",
       "      <td>1</td>\n",
       "    </tr>\n",
       "    <tr>\n",
       "      <th>0</th>\n",
       "      <td>y_0</td>\n",
       "      <td>22.669703</td>\n",
       "      <td>12.055297</td>\n",
       "      <td>1</td>\n",
       "    </tr>\n",
       "    <tr>\n",
       "      <th>...</th>\n",
       "      <td>...</td>\n",
       "      <td>...</td>\n",
       "      <td>...</td>\n",
       "      <td>...</td>\n",
       "    </tr>\n",
       "    <tr>\n",
       "      <th>0</th>\n",
       "      <td>y_0</td>\n",
       "      <td>-25.923395</td>\n",
       "      <td>-22.252709</td>\n",
       "      <td>98</td>\n",
       "    </tr>\n",
       "    <tr>\n",
       "      <th>0</th>\n",
       "      <td>random</td>\n",
       "      <td>-0.607089</td>\n",
       "      <td>-0.699088</td>\n",
       "      <td>98</td>\n",
       "    </tr>\n",
       "    <tr>\n",
       "      <th>0</th>\n",
       "      <td>y</td>\n",
       "      <td>-40.585238</td>\n",
       "      <td>-13.172418</td>\n",
       "      <td>99</td>\n",
       "    </tr>\n",
       "    <tr>\n",
       "      <th>0</th>\n",
       "      <td>y_0</td>\n",
       "      <td>-44.773789</td>\n",
       "      <td>-17.415799</td>\n",
       "      <td>99</td>\n",
       "    </tr>\n",
       "    <tr>\n",
       "      <th>0</th>\n",
       "      <td>random</td>\n",
       "      <td>0.299021</td>\n",
       "      <td>0.656068</td>\n",
       "      <td>99</td>\n",
       "    </tr>\n",
       "  </tbody>\n",
       "</table>\n",
       "<p>300 rows × 4 columns</p>\n",
       "</div>"
      ],
      "text/plain": [
       "   outcome        all  between_0.01_0.99  sim\n",
       "0        y -27.239314         -20.196751    0\n",
       "0      y_0 -30.570761         -23.582302    0\n",
       "0   random   1.546912           0.770017    0\n",
       "0        y  26.824387          16.237308    1\n",
       "0      y_0  22.669703          12.055297    1\n",
       "..     ...        ...                ...  ...\n",
       "0      y_0 -25.923395         -22.252709   98\n",
       "0   random  -0.607089          -0.699088   98\n",
       "0        y -40.585238         -13.172418   99\n",
       "0      y_0 -44.773789         -17.415799   99\n",
       "0   random   0.299021           0.656068   99\n",
       "\n",
       "[300 rows x 4 columns]"
      ]
     },
     "execution_count": 84,
     "metadata": {},
     "output_type": "execute_result"
    }
   ],
   "source": [
    "df_results"
   ]
  },
  {
   "cell_type": "code",
   "execution_count": 90,
   "id": "79a70f56",
   "metadata": {},
   "outputs": [
    {
     "data": {
      "image/png": "[encoded data removed]",
      "text/plain": [
       "<Figure size 600x400 with 1 Axes>"
      ]
     },
     "metadata": {},
     "output_type": "display_data"
    },
    {
     "data": {
      "text/plain": [
       "<Figure size 640x480 with 0 Axes>"
      ]
     },
     "metadata": {},
     "output_type": "display_data"
    }
   ],
   "source": [
    "fig,ax = plt.subplots(ncols=1,nrows=1,figsize=(6,4))\n",
    "ax.scatter(df_results.loc[df_results['outcome']=='random']['between_0.01_0.99']\n",
    "          , df_results.loc[df_results['outcome']=='y_0']['between_0.01_0.99']\n",
    "          , color='royalblue')\n",
    "ax.set_xlabel('Actual Bias')\n",
    "ax.set_ylabel('Predicted Bias from Estimating on Random Noise')\n",
    "ax.set_title('Predicted and Actual Biases\\n from Trimming Extreme Propensity Scores\\n from your Weighting Model')\n",
    "ax.set_facecolor('cornsilk')\n",
    "ax.grid()\n",
    "plt.show()\n",
    "plt.tight_layout()\n"
   ]
  },
  {
   "cell_type": "code",
   "execution_count": null,
   "id": "60ec0669",
   "metadata": {},
   "outputs": [],
   "source": []
  }
 ],
 "metadata": {
  "kernelspec": {
   "display_name": "Python 3 (ipykernel)",
   "language": "python",
   "name": "python3"
  },
  "language_info": {
   "codemirror_mode": {
    "name": "ipython",
    "version": 3
   },
   "file_extension": ".py",
   "mimetype": "text/x-python",
   "name": "python",
   "nbconvert_exporter": "python",
   "pygments_lexer": "ipython3",
   "version": "3.9.13"
  }
 },
 "nbformat": 4,
 "nbformat_minor": 5
}
