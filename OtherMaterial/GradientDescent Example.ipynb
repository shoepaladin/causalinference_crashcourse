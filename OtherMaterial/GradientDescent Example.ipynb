{
 "cells": [
  {
   "cell_type": "markdown",
   "id": "0dd645ea",
   "metadata": {},
   "source": [
    "# Gradient Descent Example\n",
    "Julian Hsu\n",
    "9-Sept-2024\n",
    "\n",
    "\n",
    "For a given function, find the value that achieves the maximum. How does performance vary over gradient and stochastic gradient descent?"
   ]
  },
  {
   "cell_type": "code",
   "execution_count": 58,
   "id": "43e52920",
   "metadata": {},
   "outputs": [],
   "source": [
    "import numpy as np\n",
    "import pandas as pd\n",
    "import seaborn as sns\n",
    "import time\n",
    "\n",
    "from matplotlib import pyplot as plt\n",
    "\n"
   ]
  },
  {
   "cell_type": "code",
   "execution_count": 125,
   "id": "33fe21b8",
   "metadata": {},
   "outputs": [],
   "source": [
    "def gradient_funct(f=None, x=None, e=0.0001):\n",
    "    numerator = f(x+e)-f(x)\n",
    "    return numerator/(e)\n",
    "\n",
    "\n",
    "def gradient_descent(f, x, learn_rate, num_iters):     \n",
    "    tolerance = 0.0001\n",
    "    i = 0   \n",
    "    change = 1\n",
    "    while ((change > tolerance) & (i < num_iters)):\n",
    "\n",
    "        ## Calculate gradient\n",
    "        grad = gradient_funct(f, x)\n",
    "        new_x = x - learn_rate * grad        \n",
    "        change = np.abs(new_x - x)\n",
    "        if i % 20 ==0:\n",
    "            print('Iter{0}, grad = {1:5.3f}, value={2:5.3f}, new value={3:5.3f}'.format(i, grad,x, new_x))\n",
    "\n",
    "        x = new_x\n",
    "        i +=1\n",
    "    if i >= num_iters:\n",
    "        print('max iterations met')\n",
    "    else:\n",
    "        pass\n",
    "    return new_x\n",
    "\n",
    "# def ols_st_gradient_descent(X, y, N, theta, learn_rate, num_iters): \n",
    "#     subN = int(0.01*N)    \n",
    "#     tolerance = 0.00001\n",
    "#     for i in range(num_iters):\n",
    "#         random_index = np.random.choice(N, subN , replace=True)    \n",
    "#         x = np.concatenate( (np.ones((subN,1)).T, X[random_index].T ) )\n",
    "#         yhat = np.dot( x.T, theta)        \n",
    "#         change = np.min(  np.abs( (learn_rate/subN) * np.dot( yhat - y[random_index], x.T)     )  )\n",
    "#         if change < tolerance:\n",
    "#             break\n",
    "#         else:\n",
    "#             theta = theta - (learn_rate/subN) * np.dot( yhat - y[random_index], x.T)\n",
    "#     return theta\n",
    "\n"
   ]
  },
  {
   "cell_type": "code",
   "execution_count": 126,
   "id": "1ec1a707",
   "metadata": {},
   "outputs": [],
   "source": [
    "def test_func(x):\n",
    "    return x**(2)- x"
   ]
  },
  {
   "cell_type": "code",
   "execution_count": 127,
   "id": "9c5c9493",
   "metadata": {},
   "outputs": [
    {
     "data": {
      "image/png": "[encoded data removed]",
      "text/plain": [
       "<Figure size 400x200 with 1 Axes>"
      ]
     },
     "metadata": {},
     "output_type": "display_data"
    }
   ],
   "source": [
    "fig,ax = plt.subplots(figsize=(4,2))\n",
    "xrange= np.arange(-1,1,0.01)\n",
    "ax.plot(xrange, [ test_func(e) for e in xrange])\n",
    "plt.show()\n",
    "\n"
   ]
  },
  {
   "cell_type": "code",
   "execution_count": 128,
   "id": "02f2dcd2",
   "metadata": {},
   "outputs": [
    {
     "name": "stdout",
     "output_type": "stream",
     "text": [
      "Iter0, grad = -3.000, value=-1.000, new value=-0.970\n",
      "Iter20, grad = -2.003, value=-0.501, new value=-0.481\n",
      "Iter40, grad = -1.337, value=-0.169, new value=-0.155\n",
      "Iter60, grad = -0.893, value=0.054, new value=0.063\n",
      "Iter80, grad = -0.596, value=0.202, new value=0.208\n",
      "Iter100, grad = -0.398, value=0.301, new value=0.305\n",
      "Iter120, grad = -0.266, value=0.367, new value=0.370\n",
      "Iter140, grad = -0.177, value=0.411, new value=0.413\n",
      "Iter160, grad = -0.118, value=0.441, new value=0.442\n",
      "Iter180, grad = -0.079, value=0.460, new value=0.461\n",
      "Iter200, grad = -0.053, value=0.474, new value=0.474\n",
      "Iter220, grad = -0.035, value=0.482, new value=0.483\n",
      "Iter240, grad = -0.024, value=0.488, new value=0.488\n",
      "Iter260, grad = -0.016, value=0.492, new value=0.492\n",
      "Iter280, grad = -0.010, value=0.495, new value=0.495\n"
     ]
    },
    {
     "data": {
      "text/plain": [
       "-0.00966745757030596"
      ]
     },
     "execution_count": 128,
     "metadata": {},
     "output_type": "execute_result"
    }
   ],
   "source": [
    "xstar = gradient_descent(test_func, -1, 0.01, 300)\n",
    "\n",
    "gradient_funct(f=test_func, x=xstar, e=0.0001)\n"
   ]
  },
  {
   "cell_type": "code",
   "execution_count": null,
   "id": "63b2e4bd",
   "metadata": {},
   "outputs": [],
   "source": []
  }
 ],
 "metadata": {
  "kernelspec": {
   "display_name": "Python 3 (ipykernel)",
   "language": "python",
   "name": "python3"
  },
  "language_info": {
   "codemirror_mode": {
    "name": "ipython",
    "version": 3
   },
   "file_extension": ".py",
   "mimetype": "text/x-python",
   "name": "python",
   "nbconvert_exporter": "python",
   "pygments_lexer": "ipython3",
   "version": "3.9.13"
  }
 },
 "nbformat": 4,
 "nbformat_minor": 5
}
